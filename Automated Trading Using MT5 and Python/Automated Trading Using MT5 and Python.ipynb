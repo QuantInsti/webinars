{
 "cells": [
  {
   "cell_type": "markdown",
   "id": "2715eef4",
   "metadata": {},
   "source": [
    "# Webinar: Automated Trading with Python: Integrating with Various Brokers & Platforms\n",
    "\n",
    "\n",
    "This notebook is a part of the webinar 'Automated Trading with Python: Integrating with Various Brokers & Platforms' conducted on June 18th, 2024 by QuantInsti Quantitative Learning Private Limited."
   ]
  },
  {
   "cell_type": "markdown",
   "id": "fd4667de",
   "metadata": {},
   "source": [
    "## Pre-Requisites\n",
    "### Installations\n",
    "\n",
    "* Install MetaTrader desktop application https://www.metatrader5.com/en/download \n",
    "* Install Python: Tutorial https://blog.quantinsti.com/set-up-python-system/.\n",
    "* Install Python Library: MetaTrader5"
   ]
  },
  {
   "cell_type": "code",
   "execution_count": null,
   "id": "9f932ad4",
   "metadata": {},
   "outputs": [],
   "source": [
    "#!pip install MetaTrader5"
   ]
  },
  {
   "cell_type": "markdown",
   "id": "91e8ff56",
   "metadata": {},
   "source": [
    "### Open a Demo Account & Get Login Credentials\n",
    "\n",
    "* Open MetaTrader desktop platform installed.\n",
    "* Follow the instructions to create account https://quantra.quantinsti.com/glossary/Automated-Trading-using-MT5-and-Python#:~:text=Step%202%3A%20Open%20a%20Demo%20Account%20%26%20Get%20Login%20Credentials"
   ]
  },
  {
   "cell_type": "markdown",
   "id": "7379d104",
   "metadata": {},
   "source": [
    "## Step-1: Establish Connection\n",
    "\n",
    "Documentation of MetaTrader5: https://www.mql5.com/en/docs/python_metatrader5\n",
    "\n",
    "![establish connection](https://d2a032ejo53cab.cloudfront.net/Glossary/MediaContent/f5Gj7835/establish-connection.png)\n",
    "\n"
   ]
  },
  {
   "cell_type": "code",
   "execution_count": 1,
   "id": "a413ad2d",
   "metadata": {},
   "outputs": [
    {
     "name": "stdout",
     "output_type": "stream",
     "text": [
      "Initialization successful\n"
     ]
    }
   ],
   "source": [
    "# Import necessary libraries\n",
    "import MetaTrader5 as mt5\n",
    "import pandas as pd\n",
    "import numpy as np\n",
    "from datetime import datetime\n",
    "import pytz\n",
    "\n",
    "# Define the path to the MetaTrader 5 terminal\n",
    "path = \"C:\\\\Program Files\\\\MetaTrader 5\\\\terminal64.exe\"\n",
    "\n",
    "# Define the login credentials for the MetaTrader 5 account\n",
    "login = \"YOUR LOGIN ID\"\n",
    "password = \"YOUR PASSWORD\"\n",
    "server = \"MetaQuotes-Demo\"\n",
    "\n",
    "# Set the timeout duration for the connection attempt\n",
    "timeout = 10000\n",
    "\n",
    "# Specify whether the terminal is portable or not\n",
    "portable = False\n",
    "\n",
    "# Attempt to initialize the MetaTrader 5 terminal with the specified parameters\n",
    "if mt5.initialize(path=path,\n",
    "                  login=login,\n",
    "                  password=password,\n",
    "                  server=server,\n",
    "                  timeout=timeout,\n",
    "                  portable=portable):\n",
    "    # Print a message indicating successful initialization\n",
    "    print(\"Initialization successful\")\n",
    "else:\n",
    "    # Print a message indicating failed initialization\n",
    "    print(\"Initialization failed\")"
   ]
  },
  {
   "cell_type": "markdown",
   "id": "0f605862",
   "metadata": {},
   "source": [
    "#### Account Information"
   ]
  },
  {
   "cell_type": "code",
   "execution_count": 2,
   "id": "51e6e314",
   "metadata": {},
   "outputs": [
    {
     "name": "stdout",
     "output_type": "stream",
     "text": [
      "Profit: 0.0\n",
      "Equity: 99997.36\n",
      "Margin: 0.0\n",
      "Margin Free: 99997.36\n"
     ]
    }
   ],
   "source": [
    "# get account information\n",
    "\n",
    "account_info_dict = mt5.account_info()._asdict()\n",
    "\n",
    "account_info_df = pd.DataFrame(account_info_dict, index=[0])\n",
    "\n",
    " \n",
    "\n",
    "# display relevant information\n",
    "\n",
    "print(\"Profit:\", account_info_df[\"profit\"].iloc[0])\n",
    "\n",
    "print(\"Equity:\", account_info_df[\"equity\"].iloc[0])\n",
    "\n",
    "print(\"Margin:\", account_info_df[\"margin\"].iloc[0])\n",
    "\n",
    "print(\"Margin Free:\", account_info_df[\"margin_free\"].iloc[0])"
   ]
  },
  {
   "cell_type": "markdown",
   "id": "7fd1e302",
   "metadata": {},
   "source": [
    "## Step 2: Get the Data\n",
    "\n",
    "![getdata](https://d2a032ejo53cab.cloudfront.net/Glossary/MediaContent/eUY96s4v/getdata.png)\n",
    "\n"
   ]
  },
  {
   "cell_type": "markdown",
   "id": "22a4be51",
   "metadata": {},
   "source": [
    "### Timeframes\n",
    "\n",
    "**Hourly:** TIMEFRAME_H1<br>\n",
    "**Daily:** TIMEFRAME_D1<br>\n",
    "**1-Minute:** TIMEFRAME_M1<br>"
   ]
  },
  {
   "cell_type": "code",
   "execution_count": 4,
   "id": "8f34d1b9",
   "metadata": {},
   "outputs": [
    {
     "data": {
      "text/plain": [
       "array([(1716336000, 1.62854, 1.6372 , 1.62488, 1.63472, 53330, 0, 0),\n",
       "       (1716422400, 1.63493, 1.6378 , 1.63244, 1.63703, 59153, 0, 0),\n",
       "       (1716508800, 1.63698, 1.64052, 1.63542, 1.63611, 49961, 0, 0),\n",
       "       (1716768000, 1.6371 , 1.63786, 1.62975, 1.63219, 38545, 0, 0),\n",
       "       (1716854400, 1.63178, 1.63429, 1.62828, 1.63257, 55274, 0, 0),\n",
       "       (1716940800, 1.63279, 1.63741, 1.62753, 1.63386, 58648, 0, 0),\n",
       "       (1717027200, 1.63384, 1.63688, 1.63126, 1.63283, 62566, 0, 0),\n",
       "       (1717113600, 1.63327, 1.63425, 1.62824, 1.63009, 61039, 0, 0),\n",
       "       (1717372800, 1.6329 , 1.63485, 1.62536, 1.62994, 61233, 0, 0),\n",
       "       (1717459200, 1.63133, 1.63863, 1.62819, 1.63594, 65361, 0, 0),\n",
       "       (1717545600, 1.63538, 1.63957, 1.63219, 1.63481, 55825, 0, 0),\n",
       "       (1717632000, 1.63479, 1.64037, 1.62979, 1.63332, 60065, 0, 0),\n",
       "       (1717718400, 1.63303, 1.64204, 1.63109, 1.6413 , 63733, 0, 0),\n",
       "       (1717977600, 1.63615, 1.63875, 1.62608, 1.62853, 58967, 0, 0),\n",
       "       (1718064000, 1.62852, 1.63356, 1.62354, 1.62566, 59501, 0, 0),\n",
       "       (1718150400, 1.62387, 1.62829, 1.61747, 1.62198, 65368, 0, 0),\n",
       "       (1718236800, 1.622  , 1.62738, 1.61748, 1.61784, 62705, 0, 0),\n",
       "       (1718323200, 1.61787, 1.62189, 1.61458, 1.61753, 67200, 0, 0),\n",
       "       (1718582400, 1.6196 , 1.62629, 1.61561, 1.62284, 59509, 0, 0),\n",
       "       (1718668800, 1.623  , 1.62456, 1.61607, 1.61732, 43778, 0, 0)],\n",
       "      dtype=[('time', '<i8'), ('open', '<f8'), ('high', '<f8'), ('low', '<f8'), ('close', '<f8'), ('tick_volume', '<u8'), ('spread', '<i4'), ('real_volume', '<u8')])"
      ]
     },
     "execution_count": 4,
     "metadata": {},
     "output_type": "execute_result"
    }
   ],
   "source": [
    "# Import necessary modules\n",
    "import MetaTrader5 as mt5\n",
    "from datetime import datetime\n",
    "import pytz\n",
    "\n",
    "# Example usage:\n",
    "symbol = \"EURAUD\"  # The trading symbol for which data is being requested\n",
    "timeframe = mt5.TIMEFRAME_D1  # The timeframe for the data (D1 indicates daily data)\n",
    "n_data = 20  # Number of data points to retrieve\n",
    "\n",
    "# Define end time\n",
    "end_time = datetime.today().astimezone(pytz.utc)  # Get the current date and time in UTC\n",
    "\n",
    "# Retrieve the data from MetaTrader 5\n",
    "data = mt5.copy_rates_from(symbol, timeframe, end_time, n_data)  # Copy the rate data for the specified symbol and timeframe\n",
    "\n",
    "# Output the retrieved data\n",
    "data  # Display the retrieved data\n"
   ]
  },
  {
   "cell_type": "code",
   "execution_count": 5,
   "id": "f6ab66b8",
   "metadata": {},
   "outputs": [],
   "source": [
    "def fetch_forex_data(symbol, timeframe, n_data):\n",
    "    \n",
    "    # Initialize the MT5 platform\n",
    "    if not mt5.initialize():\n",
    "        print(\"Initialization failed\")\n",
    "        return None\n",
    "    \n",
    "    # Define end time\n",
    "    end_time = datetime.today().astimezone(pytz.utc)\n",
    "    \n",
    "    # Fetch rates from MT5\n",
    "    rates = mt5.copy_rates_from(symbol, timeframe, end_time, n_data)\n",
    "    \n",
    "    if rates is None:\n",
    "        print(\"Failed to fetch rates\")\n",
    "        return None\n",
    "    \n",
    "    # Convert array into dataframe\n",
    "    rates_df = pd.DataFrame(rates)\n",
    "    \n",
    "    # Convert 'time' column to datetime, interpreting the time as seconds since epoch and localizing it to UTC\n",
    "    rates_df['time'] = pd.to_datetime(rates_df['time'], unit='s').dt.tz_localize('UTC')\n",
    "    \n",
    "    # Convert the 'time' column from UTC to US Eastern time zone\n",
    "    rates_df['time'] = rates_df['time'].dt.tz_convert('US/Eastern')\n",
    "    \n",
    "    return rates_df"
   ]
  },
  {
   "cell_type": "code",
   "execution_count": 6,
   "id": "cc315e43",
   "metadata": {},
   "outputs": [
    {
     "name": "stdout",
     "output_type": "stream",
     "text": [
      "Data of GBPUSD\n",
      "                       time     open     high      low    close  tick_volume  \\\n",
      "0 2024-06-18 12:17:00-04:00  1.26975  1.26982  1.26957  1.26975           46   \n",
      "1 2024-06-18 12:18:00-04:00  1.26975  1.26994  1.26964  1.26986           45   \n",
      "2 2024-06-18 12:19:00-04:00  1.26987  1.26997  1.26980  1.26993           47   \n",
      "3 2024-06-18 12:20:00-04:00  1.26992  1.26999  1.26978  1.26981           34   \n",
      "4 2024-06-18 12:21:00-04:00  1.26988  1.27000  1.26969  1.26976           46   \n",
      "5 2024-06-18 12:22:00-04:00  1.26976  1.26977  1.26951  1.26976           44   \n",
      "6 2024-06-18 12:23:00-04:00  1.26976  1.26988  1.26972  1.26985           35   \n",
      "7 2024-06-18 12:24:00-04:00  1.26986  1.26989  1.26969  1.26969           41   \n",
      "8 2024-06-18 12:25:00-04:00  1.26968  1.26968  1.26955  1.26957           38   \n",
      "9 2024-06-18 12:26:00-04:00  1.26957  1.26958  1.26943  1.26947           17   \n",
      "\n",
      "   spread  real_volume  \n",
      "0       0            0  \n",
      "1       0            0  \n",
      "2       0            0  \n",
      "3       0            0  \n",
      "4       0            0  \n",
      "5       0            0  \n",
      "6       0            0  \n",
      "7       0            0  \n",
      "8       0            0  \n",
      "9       0            0  \n"
     ]
    }
   ],
   "source": [
    "# Example usage:\n",
    "symbol = \"GBPUSD\"  # The trading symbol for which data is being requested\n",
    "timeframe = mt5.TIMEFRAME_M1  # The timeframe for the data (M1 indicates 1-minute data)\n",
    "n_data = 20  # Number of data points to retrieve\n",
    "\n",
    "# Function call to fetch forex data\n",
    "data = fetch_forex_data(symbol, timeframe, 10)  # Fetch the forex data using the defined function\n",
    "\n",
    "# Display the resulting dataframe\n",
    "if data is not None:  # Check if the data is not None\n",
    "    print(f\"Data of {symbol}\")  # Print a message indicating the symbol of the data\n",
    "    print(data)  # Print the retrieved data\n"
   ]
  },
  {
   "cell_type": "markdown",
   "id": "c44400f8",
   "metadata": {},
   "source": [
    "### Get Tick Data"
   ]
  },
  {
   "cell_type": "code",
   "execution_count": 7,
   "id": "3bc5eb43",
   "metadata": {},
   "outputs": [
    {
     "data": {
      "text/html": [
       "<div>\n",
       "<style scoped>\n",
       "    .dataframe tbody tr th:only-of-type {\n",
       "        vertical-align: middle;\n",
       "    }\n",
       "\n",
       "    .dataframe tbody tr th {\n",
       "        vertical-align: top;\n",
       "    }\n",
       "\n",
       "    .dataframe thead th {\n",
       "        text-align: right;\n",
       "    }\n",
       "</style>\n",
       "<table border=\"1\" class=\"dataframe\">\n",
       "  <thead>\n",
       "    <tr style=\"text-align: right;\">\n",
       "      <th></th>\n",
       "      <th>time</th>\n",
       "      <th>bid</th>\n",
       "      <th>ask</th>\n",
       "      <th>last</th>\n",
       "      <th>volume</th>\n",
       "      <th>time_msc</th>\n",
       "      <th>flags</th>\n",
       "      <th>volume_real</th>\n",
       "    </tr>\n",
       "  </thead>\n",
       "  <tbody>\n",
       "    <tr>\n",
       "      <th>0</th>\n",
       "      <td>2024-06-18 16:26:57</td>\n",
       "      <td>1.61881</td>\n",
       "      <td>1.61886</td>\n",
       "      <td>0.0</td>\n",
       "      <td>0</td>\n",
       "      <td>1718728017781</td>\n",
       "      <td>1028</td>\n",
       "      <td>0.0</td>\n",
       "    </tr>\n",
       "    <tr>\n",
       "      <th>1</th>\n",
       "      <td>2024-06-18 16:26:58</td>\n",
       "      <td>1.61882</td>\n",
       "      <td>1.61886</td>\n",
       "      <td>0.0</td>\n",
       "      <td>0</td>\n",
       "      <td>1718728018885</td>\n",
       "      <td>1026</td>\n",
       "      <td>0.0</td>\n",
       "    </tr>\n",
       "    <tr>\n",
       "      <th>2</th>\n",
       "      <td>2024-06-18 16:27:00</td>\n",
       "      <td>1.61882</td>\n",
       "      <td>1.61886</td>\n",
       "      <td>0.0</td>\n",
       "      <td>0</td>\n",
       "      <td>1718728020084</td>\n",
       "      <td>1026</td>\n",
       "      <td>0.0</td>\n",
       "    </tr>\n",
       "    <tr>\n",
       "      <th>3</th>\n",
       "      <td>2024-06-18 16:27:00</td>\n",
       "      <td>1.61882</td>\n",
       "      <td>1.61887</td>\n",
       "      <td>0.0</td>\n",
       "      <td>0</td>\n",
       "      <td>1718728020784</td>\n",
       "      <td>1028</td>\n",
       "      <td>0.0</td>\n",
       "    </tr>\n",
       "    <tr>\n",
       "      <th>4</th>\n",
       "      <td>2024-06-18 16:27:01</td>\n",
       "      <td>1.61882</td>\n",
       "      <td>1.61886</td>\n",
       "      <td>0.0</td>\n",
       "      <td>0</td>\n",
       "      <td>1718728021285</td>\n",
       "      <td>1028</td>\n",
       "      <td>0.0</td>\n",
       "    </tr>\n",
       "  </tbody>\n",
       "</table>\n",
       "</div>"
      ],
      "text/plain": [
       "                 time      bid      ask  last  volume       time_msc  flags  \\\n",
       "0 2024-06-18 16:26:57  1.61881  1.61886   0.0       0  1718728017781   1028   \n",
       "1 2024-06-18 16:26:58  1.61882  1.61886   0.0       0  1718728018885   1026   \n",
       "2 2024-06-18 16:27:00  1.61882  1.61886   0.0       0  1718728020084   1026   \n",
       "3 2024-06-18 16:27:00  1.61882  1.61887   0.0       0  1718728020784   1028   \n",
       "4 2024-06-18 16:27:01  1.61882  1.61886   0.0       0  1718728021285   1028   \n",
       "\n",
       "   volume_real  \n",
       "0          0.0  \n",
       "1          0.0  \n",
       "2          0.0  \n",
       "3          0.0  \n",
       "4          0.0  "
      ]
     },
     "execution_count": 7,
     "metadata": {},
     "output_type": "execute_result"
    }
   ],
   "source": [
    "# Import pandas library\n",
    "import pandas as pd\n",
    "\n",
    "end_time = datetime.today().astimezone(pytz.utc)\n",
    "\n",
    "# Copy 5 ticks from the EURAUD symbol from the specified end_time using MetaTrader 5\n",
    "euraud_tick = mt5.copy_ticks_from(\"EURAUD\", end_time, 5, mt5.COPY_TICKS_ALL)\n",
    "\n",
    "# Convert the tick data into a pandas DataFrame\n",
    "euraud_tick = pd.DataFrame(euraud_tick)\n",
    "\n",
    "# Convert the 'time' column from seconds since epoch to datetime\n",
    "euraud_tick['time'] = pd.to_datetime(euraud_tick['time'], unit='s')\n",
    "\n",
    "# Display the resulting dataframe\n",
    "euraud_tick\n"
   ]
  },
  {
   "cell_type": "markdown",
   "id": "53d60fcb",
   "metadata": {},
   "source": [
    "## Step 3 & 4: Define Trading Logic and Generate Trading Signals\n",
    "\n",
    "**Example:** Moving Average Crossover \n",
    "\n",
    "* Buy when 5 SMA > 10 SMA\n",
    "* Sell when 5 SMA < 10 SMA"
   ]
  },
  {
   "cell_type": "markdown",
   "id": "bf5ba256",
   "metadata": {},
   "source": [
    "#### Generate Trading Signals"
   ]
  },
  {
   "cell_type": "code",
   "execution_count": 8,
   "id": "5e820ded",
   "metadata": {},
   "outputs": [
    {
     "data": {
      "text/plain": [
       "'sell'"
      ]
     },
     "execution_count": 8,
     "metadata": {},
     "output_type": "execute_result"
    }
   ],
   "source": [
    "def sma_crossover(symbol):\n",
    "\n",
    "    # Import / Features engineering\n",
    "    df = fetch_forex_data(symbol, mt5.TIMEFRAME_D1, n_data)\n",
    "\n",
    "    # Create Resistance using a rolling max\n",
    "    df[\"SMA fast\"] = df[\"close\"].rolling(5).mean()\n",
    "\n",
    "    # Create Support using a rolling min\n",
    "    df[\"SMA slow\"] = df[\"close\"].rolling(10).mean()\n",
    "\n",
    "    # Signals\n",
    "    condition_1_buy = df[\"SMA fast\"].iloc[-1] > df[\"SMA slow\"].iloc[-1]\n",
    "\n",
    "    condition_1_sell = df[\"SMA fast\"].iloc[-1] <= df[\"SMA slow\"].iloc[-1]\n",
    "\n",
    "    if condition_1_buy:\n",
    "        return \"buy\"\n",
    "    \n",
    "    elif condition_1_sell:\n",
    "        return \"sell\"\n",
    "\n",
    "\n",
    "\n",
    "# Example Usage\n",
    "sma_crossover('EURUSD')"
   ]
  },
  {
   "cell_type": "markdown",
   "id": "37d573c5",
   "metadata": {},
   "source": [
    "## Step 5: Place Orders\n",
    "\n"
   ]
  },
  {
   "cell_type": "code",
   "execution_count": 9,
   "id": "e9872671",
   "metadata": {},
   "outputs": [],
   "source": [
    "def place_buy_order(symbol, lot, deviation=10):\n",
    "    \n",
    "    # Initialize the MT5 platform\n",
    "    if not mt5.initialize():\n",
    "        print(\"Initialization failed\")\n",
    "        return None\n",
    "\n",
    "    # Find the filling mode of the symbol\n",
    "    filling_type = mt5.symbol_info(symbol).filling_mode\n",
    "\n",
    "    # Create the request dictionary\n",
    "    request = {\n",
    "        \"action\": mt5.TRADE_ACTION_DEAL,\n",
    "        \"symbol\": symbol,\n",
    "        \"volume\": lot,\n",
    "        \"type\": mt5.ORDER_TYPE_BUY,\n",
    "        \"price\": mt5.symbol_info_tick(symbol).ask,\n",
    "        \"deviation\": deviation,\n",
    "        \"type_filling\": filling_type,\n",
    "        \"type_time\": mt5.ORDER_TIME_GTC\n",
    "    }\n",
    "\n",
    "    # Send the order\n",
    "    order_result = mt5.order_send(request)\n",
    "\n",
    "    # Check the result\n",
    "    if order_result.retcode != mt5.TRADE_RETCODE_DONE:\n",
    "        print(\"Error placing order: \", order_result.comment)\n",
    "        return None\n",
    "    else:\n",
    "        print(\"Order placed successfully, order ticket:\", order_result.order)\n",
    "        return order_result.order\n",
    "    \n",
    "    \n",
    "def place_sell_order(symbol, lot, deviation=10):\n",
    "\n",
    "    # Initialize the MT5 platform\n",
    "    if not mt5.initialize():\n",
    "        print(\"Initialization failed\")\n",
    "        return None\n",
    "\n",
    "    # Find the filling mode of the symbol\n",
    "    filling_type = mt5.symbol_info(symbol).filling_mode\n",
    "\n",
    "    # Create the request dictionary\n",
    "    request = {\n",
    "        \"action\": mt5.TRADE_ACTION_DEAL,\n",
    "        \"symbol\": symbol,\n",
    "        \"volume\": lot,\n",
    "        \"type\": mt5.ORDER_TYPE_SELL,\n",
    "        \"price\": mt5.symbol_info_tick(symbol).bid,\n",
    "        \"deviation\": deviation,\n",
    "        \"type_filling\": filling_type,\n",
    "        \"type_time\": mt5.ORDER_TIME_GTC\n",
    "    }\n",
    "\n",
    "    # Send the order\n",
    "    order_result = mt5.order_send(request)\n",
    "\n",
    "    # Check the result\n",
    "    if order_result.retcode != mt5.TRADE_RETCODE_DONE:\n",
    "        print(\"Error placing order: \", order_result.comment)\n",
    "        return None\n",
    "    else:\n",
    "        print(\"Order placed successfully, order ticket:\", order_result.order)\n",
    "        return order_result.order"
   ]
  },
  {
   "cell_type": "code",
   "execution_count": 11,
   "id": "f53cd182",
   "metadata": {},
   "outputs": [
    {
     "name": "stdout",
     "output_type": "stream",
     "text": [
      "Order placed successfully, order ticket: 150225369685\n"
     ]
    },
    {
     "data": {
      "text/plain": [
       "150225369685"
      ]
     },
     "execution_count": 11,
     "metadata": {},
     "output_type": "execute_result"
    }
   ],
   "source": [
    "place_buy_order('EURUSD', 0.01)"
   ]
  },
  {
   "cell_type": "code",
   "execution_count": 12,
   "id": "43b74b7b",
   "metadata": {},
   "outputs": [
    {
     "name": "stdout",
     "output_type": "stream",
     "text": [
      "Placing Sell Order\n",
      "Order placed successfully, order ticket: 150225369786\n"
     ]
    }
   ],
   "source": [
    "# Check if the SMA crossover indicates a 'buy' signal for the 'EURUSD' currency pair\n",
    "\n",
    "if sma_crossover('EURUSD') == 'buy':\n",
    "    \n",
    "    # Print a message indicating that a buy order is being placed\n",
    "    print(\"Placing Buy Order\")\n",
    "    \n",
    "    # Place a buy order for the specified symbol with a lot size of 0.01\n",
    "    place_buy_order(symbol, 0.01)\n",
    "\n",
    "# Check if the SMA crossover indicates a 'sell' signal for the 'EURUSD' currency pair\n",
    "elif sma_crossover('EURUSD') == 'sell':\n",
    "    \n",
    "    # Print a message indicating that a sell order is being placed\n",
    "    print(\"Placing Sell Order\")\n",
    "    \n",
    "    # Place a sell order for the specified symbol with a lot size of 0.01\n",
    "    place_sell_order(symbol, 0.01)"
   ]
  },
  {
   "cell_type": "markdown",
   "id": "c39abc71",
   "metadata": {},
   "source": [
    "### Monitor Positions"
   ]
  },
  {
   "cell_type": "code",
   "execution_count": 13,
   "id": "641865f7",
   "metadata": {},
   "outputs": [
    {
     "name": "stdout",
     "output_type": "stream",
     "text": [
      "Unrealized P&L:  -0.04\n"
     ]
    },
    {
     "data": {
      "text/html": [
       "<div>\n",
       "<style scoped>\n",
       "    .dataframe tbody tr th:only-of-type {\n",
       "        vertical-align: middle;\n",
       "    }\n",
       "\n",
       "    .dataframe tbody tr th {\n",
       "        vertical-align: top;\n",
       "    }\n",
       "\n",
       "    .dataframe thead th {\n",
       "        text-align: right;\n",
       "    }\n",
       "</style>\n",
       "<table border=\"1\" class=\"dataframe\">\n",
       "  <thead>\n",
       "    <tr style=\"text-align: right;\">\n",
       "      <th></th>\n",
       "      <th>ticket</th>\n",
       "      <th>time</th>\n",
       "      <th>time_msc</th>\n",
       "      <th>time_update</th>\n",
       "      <th>time_update_msc</th>\n",
       "      <th>type</th>\n",
       "      <th>magic</th>\n",
       "      <th>identifier</th>\n",
       "      <th>reason</th>\n",
       "      <th>volume</th>\n",
       "      <th>price_open</th>\n",
       "      <th>sl</th>\n",
       "      <th>tp</th>\n",
       "      <th>price_current</th>\n",
       "      <th>swap</th>\n",
       "      <th>profit</th>\n",
       "      <th>symbol</th>\n",
       "      <th>comment</th>\n",
       "      <th>external_id</th>\n",
       "    </tr>\n",
       "  </thead>\n",
       "  <tbody>\n",
       "    <tr>\n",
       "      <th>0</th>\n",
       "      <td>150225369685</td>\n",
       "      <td>1718738835</td>\n",
       "      <td>1718738835141</td>\n",
       "      <td>1718738835</td>\n",
       "      <td>1718738835141</td>\n",
       "      <td>0</td>\n",
       "      <td>0</td>\n",
       "      <td>150225369685</td>\n",
       "      <td>3</td>\n",
       "      <td>0.01</td>\n",
       "      <td>1.07409</td>\n",
       "      <td>0.0</td>\n",
       "      <td>0.0</td>\n",
       "      <td>1.07409</td>\n",
       "      <td>0.0</td>\n",
       "      <td>0.00</td>\n",
       "      <td>EURUSD</td>\n",
       "      <td></td>\n",
       "      <td></td>\n",
       "    </tr>\n",
       "    <tr>\n",
       "      <th>1</th>\n",
       "      <td>150225369786</td>\n",
       "      <td>1718738837</td>\n",
       "      <td>1718738837681</td>\n",
       "      <td>1718738837</td>\n",
       "      <td>1718738837681</td>\n",
       "      <td>1</td>\n",
       "      <td>0</td>\n",
       "      <td>150225369786</td>\n",
       "      <td>3</td>\n",
       "      <td>0.01</td>\n",
       "      <td>1.26993</td>\n",
       "      <td>0.0</td>\n",
       "      <td>0.0</td>\n",
       "      <td>1.26997</td>\n",
       "      <td>0.0</td>\n",
       "      <td>-0.04</td>\n",
       "      <td>GBPUSD</td>\n",
       "      <td></td>\n",
       "      <td></td>\n",
       "    </tr>\n",
       "  </tbody>\n",
       "</table>\n",
       "</div>"
      ],
      "text/plain": [
       "         ticket        time       time_msc  time_update  time_update_msc  \\\n",
       "0  150225369685  1718738835  1718738835141   1718738835    1718738835141   \n",
       "1  150225369786  1718738837  1718738837681   1718738837    1718738837681   \n",
       "\n",
       "   type  magic    identifier  reason  volume  price_open   sl   tp  \\\n",
       "0     0      0  150225369685       3    0.01     1.07409  0.0  0.0   \n",
       "1     1      0  150225369786       3    0.01     1.26993  0.0  0.0   \n",
       "\n",
       "   price_current  swap  profit  symbol comment external_id  \n",
       "0        1.07409   0.0    0.00  EURUSD                      \n",
       "1        1.26997   0.0   -0.04  GBPUSD                      "
      ]
     },
     "metadata": {},
     "output_type": "display_data"
    }
   ],
   "source": [
    "# Positions\n",
    "\n",
    "result = mt5.positions_get()\n",
    "\n",
    "if result:\n",
    "\n",
    "    # create a list of dictionaries containing the data for each position\n",
    "    data = pd.DataFrame([position._asdict() for position in result])\n",
    "\n",
    "    print(\"Unrealized P&L: \", data.profit.sum())\n",
    "\n",
    "    # print the DataFrame\n",
    "    display(data)\n",
    "\n",
    "else:\n",
    "\n",
    "    print(\"No positions found\")"
   ]
  },
  {
   "cell_type": "markdown",
   "id": "3fe392ca",
   "metadata": {},
   "source": [
    "#### Close Existing Positions"
   ]
  },
  {
   "cell_type": "code",
   "execution_count": 14,
   "id": "21a0fcab",
   "metadata": {},
   "outputs": [
    {
     "name": "stdout",
     "output_type": "stream",
     "text": [
      "Position 150225369685 closed successfully, order ticket: 150225369998\n",
      "Position 150225369786 closed successfully, order ticket: 150225370004\n"
     ]
    }
   ],
   "source": [
    "# iterate through each position in the DataFrame\n",
    "for index, row in data.iterrows():\n",
    "    ticket = int(row.ticket)\n",
    "    \n",
    "    # check if the position exists and its type\n",
    "    position = mt5.positions_get(ticket=ticket)\n",
    "    \n",
    "    if position:\n",
    "        if position[0].type == mt5.ORDER_TYPE_BUY:\n",
    "            # if the position is a buy position, send a sell order to close it\n",
    "            request = {\n",
    "                \"action\": mt5.TRADE_ACTION_DEAL,\n",
    "                \"symbol\": position[0].symbol,\n",
    "                \"volume\": position[0].volume,\n",
    "                \"type\": mt5.ORDER_TYPE_SELL,\n",
    "                \"position\": position[0].ticket,\n",
    "                \"price\": mt5.symbol_info_tick(position[0].symbol).bid,\n",
    "            }\n",
    "        else:\n",
    "            # if the position is a sell position, send a buy order to close it\n",
    "            request = {\n",
    "                \"action\": mt5.TRADE_ACTION_DEAL,\n",
    "                \"symbol\": position[0].symbol,\n",
    "                \"volume\": position[0].volume,\n",
    "                \"type\": mt5.ORDER_TYPE_BUY,\n",
    "                \"position\": position[0].ticket,\n",
    "                \"price\": mt5.symbol_info_tick(position[0].symbol).ask,\n",
    "            }\n",
    "\n",
    "        # close the position\n",
    "        result = mt5.order_send(request)\n",
    "        \n",
    "        if result.retcode != mt5.TRADE_RETCODE_DONE:\n",
    "            print(f\"Error closing position {position[0].ticket}: {result.comment}\")\n",
    "        else:\n",
    "            print(f\"Position {position[0].ticket} closed successfully, order ticket: {result.order}\")\n",
    "    else:\n",
    "        print(f\"Position {ticket} not found\")\n",
    "\n"
   ]
  },
  {
   "cell_type": "markdown",
   "id": "81042fa4",
   "metadata": {},
   "source": [
    "#### Close Single Position"
   ]
  },
  {
   "cell_type": "code",
   "execution_count": 15,
   "id": "9b004ae0",
   "metadata": {},
   "outputs": [
    {
     "name": "stdout",
     "output_type": "stream",
     "text": [
      "Order placed successfully, order ticket: 150225370440\n"
     ]
    },
    {
     "data": {
      "text/plain": [
       "150225370440"
      ]
     },
     "execution_count": 15,
     "metadata": {},
     "output_type": "execute_result"
    }
   ],
   "source": [
    "place_sell_order('EURUSD', 0.01)"
   ]
  },
  {
   "cell_type": "code",
   "execution_count": 16,
   "id": "9f605329",
   "metadata": {},
   "outputs": [],
   "source": [
    "order_ticket = int('150225370440')"
   ]
  },
  {
   "cell_type": "code",
   "execution_count": 17,
   "id": "e282e63e",
   "metadata": {},
   "outputs": [
    {
     "name": "stdout",
     "output_type": "stream",
     "text": [
      "Position 150225370440 closed successfully, order ticket: 150225370584\n"
     ]
    }
   ],
   "source": [
    "# Get the position details using the order ticket\n",
    "position = mt5.positions_get(ticket=order_ticket)\n",
    "\n",
    "if position:\n",
    "    position = position[0]  # Since positions_get returns a tuple, take the first element\n",
    "\n",
    "    # Determine the order type to close the position\n",
    "    if position.type == mt5.ORDER_TYPE_BUY:\n",
    "        order_type = mt5.ORDER_TYPE_SELL\n",
    "        price = mt5.symbol_info_tick(position.symbol).bid\n",
    "    else:\n",
    "        order_type = mt5.ORDER_TYPE_BUY\n",
    "        price = mt5.symbol_info_tick(position.symbol).ask\n",
    "\n",
    "    # Create the request to close the position\n",
    "    request = {\n",
    "        \"action\": mt5.TRADE_ACTION_DEAL,\n",
    "        \"symbol\": position.symbol,\n",
    "        \"volume\": position.volume,\n",
    "        \"type\": order_type,\n",
    "        \"position\": position.ticket,\n",
    "        \"price\": price,\n",
    "        \"deviation\": 10,  # Specify the deviation in pips\n",
    "        \"magic\": 234000,  # Magic number for identification\n",
    "        \"comment\": \"Closing position\"\n",
    "    }\n",
    "\n",
    "    # Send the order to close the position\n",
    "    result = mt5.order_send(request)\n",
    "\n",
    "    # Check the result\n",
    "    if result.retcode != mt5.TRADE_RETCODE_DONE:\n",
    "        print(f\"Error closing position {order_ticket}: {result.comment}\")\n",
    "    else:\n",
    "        print(f\"Position {order_ticket} closed successfully, order ticket: {result.order}\")\n",
    "else:\n",
    "    print(f\"Position {order_ticket} not found\")"
   ]
  },
  {
   "cell_type": "markdown",
   "id": "5ae4cbb0",
   "metadata": {},
   "source": [
    "© Copyright QuantInsti Quantitative Learning Private Limited"
   ]
  }
 ],
 "metadata": {
  "kernelspec": {
   "display_name": "Python 3 (ipykernel)",
   "language": "python",
   "name": "python3"
  },
  "language_info": {
   "codemirror_mode": {
    "name": "ipython",
    "version": 3
   },
   "file_extension": ".py",
   "mimetype": "text/x-python",
   "name": "python",
   "nbconvert_exporter": "python",
   "pygments_lexer": "ipython3",
   "version": "3.9.5"
  }
 },
 "nbformat": 4,
 "nbformat_minor": 5
}
